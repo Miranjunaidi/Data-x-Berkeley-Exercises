{
 "cells": [
  {
   "cell_type": "markdown",
   "metadata": {},
   "source": [
    "# Data-X Spring 2019: Homework 7\n",
    "\n",
    "### Webscraping\n",
    "\n",
    "\n",
    "\n",
    "In this homework, you will do some exercises with web-scraping."
   ]
  },
  {
   "cell_type": "markdown",
   "metadata": {},
   "source": [
    "## Name: Miran Tafazzul Hussain Junaidi\n",
    "\n",
    "## SID: 3034487132\n",
    "\n"
   ]
  },
  {
   "cell_type": "markdown",
   "metadata": {},
   "source": [
    "### Fun with Webscraping & Text manipulation\n"
   ]
  },
  {
   "cell_type": "markdown",
   "metadata": {},
   "source": [
    "## 1. Statistics in Presidential Debates\n",
    "\n",
    "Your first task is to scrape Presidential Debates from the Commission of Presidential Debates website: https://www.debates.org/voter-education/debate-transcripts/\n",
    "\n",
    "To do this, you are not allowed to manually look up the URLs that you need, instead you have to scrape them. The root url to be scraped is the one listed above, namely: https://www.debates.org/voter-education/debate-transcripts/\n",
    "\n",
    "\n",
    "1. By using `requests` and `BeautifulSoup` find all the links / URLs on the website that links to transcriptions of **First Presidential Debates** from the years [1988, 1984, 1976, 1960]. In total you should find 4 links / URLs that fulfill this criteria. **Print the urls.**\n",
    "\n",
    "2. When you have a list of the URLs your task is to create a Data Frame with some statistics (see example of output below):\n",
    "    1. Scrape the title of each link and use that as the column name in your Data Frame. \n",
    "    2. Count how long the transcript of the debate is (as in the number of characters in transcription string). Feel free to include `\\` characters in your count, but remove any breakline characters, i.e. `\\n`. You will get credit if your count is +/- 10% from our result.\n",
    "    3. Count how many times the word **war** was used in the different debates. Note that you have to convert the text in a smart way (to not count the word **warranty** for example, but counting **war.**, **war!**, **war,** or **War** etc.\n",
    "    4. Also scrape the most common used word in the debate, and write how many times it was used. Note that you have to use the same strategy as in C in order to do this.\n",
    "    \n",
    "    **Print your final output result.**\n",
    "    \n",
    "**Tips:**\n",
    "\n",
    "___\n",
    "\n",
    "In order to solve the questions above, it can be useful to work with Regular Expressions and explore methods on strings like `.strip(), .replace(), .find(), .count(), .lower()` etc. Both are very powerful tools to do string processing in Python. To count common words for example I used a `Counter` object and a Regular expression pattern for only words, see example:\n",
    "\n",
    "```python\n",
    "    from collections import Counter\n",
    "    import re\n",
    "\n",
    "    counts = Counter(re.findall(r\"[\\w']+\", text.lower()))\n",
    "```\n",
    "\n",
    "Read more about Regular Expressions here: https://docs.python.org/3/howto/regex.html\n",
    "    \n",
    "    \n",
    "**Example output of all of the answers to Question 1.2:**\n",
    "\n",
    "\n",
    "![pres_stats_2](https://github.com/ikhlaqsidhu/data-x/raw/master/x-archive/misc/hw2_imgs_spring2018/presidents_stats_2.jpg)\n",
    "\n",
    "\n",
    "\n",
    "----\n",
    "\n",
    ".\n",
    "\n",
    "\n"
   ]
  },
  {
   "cell_type": "code",
   "execution_count": 198,
   "metadata": {
    "collapsed": true
   },
   "outputs": [
    {
     "data": {
      "text/html": [
       "<style>.container { width:90% !important; }</style>"
      ],
      "text/plain": [
       "<IPython.core.display.HTML object>"
      ]
     },
     "metadata": {},
     "output_type": "display_data"
    }
   ],
   "source": [
    "# your code here\n",
    "from IPython.core.display import display, HTML\n",
    "display(HTML(\"<style>.container { width:90% !important; }</style>\")) "
   ]
  },
  {
   "cell_type": "code",
   "execution_count": 199,
   "metadata": {},
   "outputs": [],
   "source": [
    "import numpy as np\n",
    "import pandas as pd\n",
    "import re\n",
    "from collections import Counter"
   ]
  },
  {
   "cell_type": "code",
   "execution_count": 200,
   "metadata": {},
   "outputs": [],
   "source": [
    "import requests\n",
    "import bs4 as bs"
   ]
  },
  {
   "cell_type": "code",
   "execution_count": 201,
   "metadata": {},
   "outputs": [],
   "source": [
    "source = requests.get(\"https://www.debates.org/voter-education/debate-transcripts/\")"
   ]
  },
  {
   "cell_type": "code",
   "execution_count": 202,
   "metadata": {},
   "outputs": [],
   "source": [
    "content = bs.BeautifulSoup(source.content , features='html.parser')"
   ]
  },
  {
   "cell_type": "code",
   "execution_count": 203,
   "metadata": {},
   "outputs": [
    {
     "name": "stdout",
     "output_type": "stream",
     "text": [
      "<!DOCTYPE html PUBLIC \"-//W3C//DTD HTML 4.01 Transitional//EN\">\n",
      "\n",
      "<html>\n",
      "<head>\n",
      "<meta content=\"en-us\" http-equiv=\"Content-Language\"/>\n",
      "<meta content=\"text/html;charset=utf-8\" http-equiv=\"Content-Type\"/>\n",
      "<title>CPD: Debate Transcripts</title>\n",
      "<link href=\"/wp-content/themes/debates2019/css/reset.css\" rel=\"stylesheet\" type=\"text/css\"/>\n",
      "<link href=\"/wp-content/themes/debates2019/css/jc-main.css\" media=\"screen,projection\" rel=\"stylesheet\" type=\"text/css\"/>\n",
      "<link href=\"/wp-content/themes/debates2019/css/fonts.css\" media=\"screen,projection\" rel=\"stylesheet\" type=\"text/css\"/>\n",
      "<!--[if gte IE 5]>\n",
      "        <link href=\"/wp-content/themes/debates2019/css/jc-iemain.css\" rel=\"stylesheet\" type=\"text/css\" media=\"screen,projection\"  />\n",
      "        <![endif]-->\n",
      "<link href=\"/wp-content/themes/debates2019/css/styles.css\" media=\"screen\" rel=\"stylesheet\" type=\"text/css\"/>\n",
      "</head> <body>\n",
      "<div id=\"wrapper\">\n",
      "<div id=\"header\">\n",
      "</div>\n",
      "<div id=\"menubar\">\n",
      "<a class=\"\" href=\"/\" id=\"tm-1\">Home</a>\n",
      "<a class=\"\" href=\"/about-cpd/\" id=\"tm-2\">About CPD</a>\n",
      "<a class=\"\" href=\"/debate-history/\" id=\"tm-3\">Debate History</a>\n",
      "<a class=\"\" href=\"/news/\" id=\"tm-4\">News</a>\n",
      "<a class=\"current\" href=\"/voter-education/\" id=\"tm-5\">Voter Education</a>\n",
      "<a class=\"\" href=\"/international/\" id=\"tm-6\">International</a>\n",
      "<a class=\"\" href=\"/media/\" id=\"tm-11\">Media</a>\n",
      "</div>\n",
      "<div id=\"searchbar\">\n",
      "</div>\n",
      "<div id=\"printf\">\n",
      "</div>\n",
      "<div style=\"clear: both;\"></div>\n",
      "<div id=\"contentwrapper\">\n",
      "<div id=\"leftmenu\">\n",
      "<span class=\"lmtop\">In This Section</span>\n",
      "<hr/>\n",
      "<ul class=\"arrow1\">\n",
      "<li class=\"page_item page-item-36\"><a href=\"/voter-education/guide-to-hosting-your-own-debate/\">Guide to Hosting Your Own Debate</a></li>\n",
      "<li class=\"page_item page-item-37\"><a href=\"/voter-education/debatewatch-overview/\">Host a DebateWatch</a></li>\n",
      "<li class=\"page_item page-item-35 page_item_has_children\"><a href=\"/voter-education/voter-education-partners/\">Voter Education Partners</a>\n",
      "<ul class=\"children\">\n",
      "<li class=\"page_item page-item-40\"><a href=\"/voter-education/voter-education-partners/debatewatch-2000-academic-partners/\">DebateWatch 2000 Academic Partners</a></li>\n",
      "<li class=\"page_item page-item-39\"><a href=\"/voter-education/voter-education-partners/debatewatch-2000-organizational-partners/\">DebateWatch 2000 Organizational Partners</a></li>\n",
      "<li class=\"page_item page-item-38\"><a href=\"/voter-education/voter-education-partners/organizations-participating-in-debatewatch-2004/\">Organizations Participating in DebateWatch 2004</a></li>\n",
      "</ul>\n",
      "</li>\n",
      "<li class=\"page_item page-item-41\"><a href=\"/voter-education/citizen-resources/\">Citizen Resources</a></li>\n",
      "<li class=\"page_item page-item-42\"><a href=\"/voter-education/debate-videos/\">Debate Videos</a></li>\n",
      "<li class=\"page_item page-item-44 page_item_has_children current_page_item\"><a href=\"/voter-education/debate-transcripts/\">Debate Transcripts</a>\n",
      "<ul class=\"children\">\n",
      "<li class=\"page_item page-item-98\"><a href=\"/voter-education/debate-transcripts/october-19-2016-debate-transcript/\">October 19, 2016 Debate Transcript</a></li>\n",
      "<li class=\"page_item page-item-99\"><a href=\"/voter-education/debate-transcripts/october-9-2016-debate-transcript/\">October 9, 2016 Debate Transcript</a></li>\n",
      "<li class=\"page_item page-item-100\"><a href=\"/voter-education/debate-transcripts/october-4-2016-debate-transcript/\">October 4, 2016 Debate Transcript</a></li>\n",
      "<li class=\"page_item page-item-101\"><a href=\"/voter-education/debate-transcripts/september-26-2016-debate-transcript/\">September 26, 2016 Debate Transcript</a></li>\n",
      "<li class=\"page_item page-item-102\"><a href=\"/voter-education/debate-transcripts/october-22-2012-the-third-obama-romney-presidential-debate/\">October 22, 2012 Debate Transcript</a></li>\n",
      "<li class=\"page_item page-item-103\"><a href=\"/voter-education/debate-transcripts/october-16-2012-the-second-obama-romney-presidential-debate/\">October 16, 2012 Debate Transcript</a></li>\n",
      "<li class=\"page_item page-item-104\"><a href=\"/voter-education/debate-transcripts/october-11-2012-the-biden-romney-vice-presidential-debate/\">October 11, 2012 Debate Transcript</a></li>\n",
      "<li class=\"page_item page-item-105\"><a href=\"/voter-education/debate-transcripts/october-3-2012-debate-transcript/\">October 3, 2012 Debate Transcript</a></li>\n",
      "<li class=\"page_item page-item-106\"><a href=\"/voter-education/debate-transcripts/2008-debate-transcript/\">September 26, 2008 Debate Transcript</a></li>\n",
      "<li class=\"page_item page-item-107\"><a href=\"/voter-education/debate-transcripts/2008-debate-transcript-2/\">October 2, 2008 Debate Transcript</a></li>\n",
      "<li class=\"page_item page-item-108\"><a href=\"/voter-education/debate-transcripts/october-7-2008-debate-transcrip/\">October 7, 2008 Debate Transcript</a></li>\n",
      "<li class=\"page_item page-item-109\"><a href=\"/voter-education/debate-transcripts/october-15-2008-debate-transcript/\">October 15, 2008 Debate Transcript</a></li>\n",
      "<li class=\"page_item page-item-110\"><a href=\"/voter-education/debate-transcripts/october-13-2004-debate-transcript/\">October 13, 2004 Debate Transcript</a></li>\n",
      "<li class=\"page_item page-item-111\"><a href=\"/voter-education/debate-transcripts/october-8-2004-debate-transcript/\">October 8, 2004 Debate Transcript</a></li>\n",
      "<li class=\"page_item page-item-112\"><a href=\"/voter-education/debate-transcripts/october-5-2004-transcript/\">October 5, 2004 Transcript</a></li>\n",
      "<li class=\"page_item page-item-113\"><a href=\"/voter-education/debate-transcripts/september-30-2004-debate-transcript/\">September 30, 2004 Debate Transcript</a></li>\n",
      "<li class=\"page_item page-item-117\"><a href=\"/voter-education/debate-transcripts/october-17-2000-debate-transcript/\">October 17, 2000 Debate Transcript</a></li>\n",
      "<li class=\"page_item page-item-116\"><a href=\"/voter-education/debate-transcripts/october-11-2000-debate-transcript/\">October 11, 2000 Debate Transcript</a></li>\n",
      "<li class=\"page_item page-item-115\"><a href=\"/voter-education/debate-transcripts/october-5-2000-debate-transcript/\">October 5, 2000 Debate Transcript</a></li>\n",
      "<li class=\"page_item page-item-114\"><a href=\"/voter-education/debate-transcripts/october-3-2000-transcript/\">October 3, 2000 Transcript</a></li>\n",
      "<li class=\"page_item page-item-120\"><a href=\"/voter-education/debate-transcripts/october-16-1996-debate-transcript/\">October 16, 1996 Debate Transcript</a></li>\n",
      "<li class=\"page_item page-item-119\"><a href=\"/voter-education/debate-transcripts/october-9-1996-debate-transcript/\">October 9, 1996 Debate Transcript</a></li>\n",
      "<li class=\"page_item page-item-118\"><a href=\"/voter-education/debate-transcripts/october-6-1996-debate-transcript/\">October 6, 1996 Debate Transcript</a></li>\n",
      "<li class=\"page_item page-item-126\"><a href=\"/voter-education/debate-transcripts/october-19-1992-debate-transcript/\">October 19, 1992 Debate Transcript</a></li>\n",
      "<li class=\"page_item page-item-124\"><a href=\"/voter-education/debate-transcripts/october-15-1992-first-half-debate-transcript/\">October 15, 1992 First Half Debate Transcript</a></li>\n",
      "<li class=\"page_item page-item-125\"><a href=\"/voter-education/debate-transcripts/october-15-1992-second-half-debate-transcript/\">October 15, 1992 Second Half Debate Transcript</a></li>\n",
      "<li class=\"page_item page-item-123\"><a href=\"/voter-education/debate-transcripts/october-13-1992-debate-transcript/\">October 13, 1992 Debate Transcript</a></li>\n",
      "<li class=\"page_item page-item-121\"><a href=\"/voter-education/debate-transcripts/october-11-1992-first-half-debate-transcript/\">October 11, 1992 First Half Debate Transcript</a></li>\n",
      "<li class=\"page_item page-item-122\"><a href=\"/voter-education/debate-transcripts/october-11-1992-second-half-debate-transcript/\">October 11, 1992 Second Half Debate Transcript</a></li>\n",
      "<li class=\"page_item page-item-129\"><a href=\"/voter-education/debate-transcripts/october-13-1988-debate-transcript/\">October 13, 1988 Debate Transcript</a></li>\n",
      "<li class=\"page_item page-item-128\"><a href=\"/voter-education/debate-transcripts/october-5-1988-debate-transcripts/\">October 5, 1988 Debate Transcripts</a></li>\n",
      "<li class=\"page_item page-item-127\"><a href=\"/voter-education/debate-transcripts/september-25-1988-debate-transcript/\">September 25, 1988 Debate Transcript</a></li>\n",
      "<li class=\"page_item page-item-132\"><a href=\"/voter-education/debate-transcripts/october-21-1984-debate-transcript/\">October 21, 1984 Debate Transcript</a></li>\n",
      "<li class=\"page_item page-item-131\"><a href=\"/voter-education/debate-transcripts/october-11-1984-debate-transcript/\">October 11, 1984 Debate Transcript</a></li>\n",
      "<li class=\"page_item page-item-130\"><a href=\"/voter-education/debate-transcripts/october-7-1984-debate-transcript/\">October 7, 1984 Debate Transcript</a></li>\n",
      "<li class=\"page_item page-item-134\"><a href=\"/voter-education/debate-transcripts/october-28-1980-debate-transcript/\">October 28, 1980 Debate Transcript</a></li>\n",
      "<li class=\"page_item page-item-133\"><a href=\"/voter-education/debate-transcripts/september-21-1980-debate-transcript/\">September 21, 1980 Debate Transcript</a></li>\n",
      "<li class=\"page_item page-item-137\"><a href=\"/voter-education/debate-transcripts/october-22-1976-debate-transcript/\">October 22, 1976 Debate Transcript</a></li>\n",
      "<li class=\"page_item page-item-136\"><a href=\"/voter-education/debate-transcripts/october-6-1976-debate-transcript/\">October 6, 1976 Debate Transcript</a></li>\n",
      "<li class=\"page_item page-item-135\"><a href=\"/voter-education/debate-transcripts/september-23-1976-debate-transcript/\">September 23, 1976 Debate Transcript</a></li>\n",
      "<li class=\"page_item page-item-141\"><a href=\"/voter-education/debate-transcripts/october-21-1960-debate-transcript/\">October 21, 1960 Debate Transcript</a></li>\n",
      "<li class=\"page_item page-item-140\"><a href=\"/voter-education/debate-transcripts/october-13-1960-debate-transcript/\">October 13, 1960 Debate Transcript</a></li>\n",
      "<li class=\"page_item page-item-139\"><a href=\"/voter-education/debate-transcripts/october-7-1960-debate-transcript/\">October 7, 1960 Debate Transcript</a></li>\n",
      "<li class=\"page_item page-item-138\"><a href=\"/voter-education/debate-transcripts/september-26-1960-debate-transcript/\">September 26, 1960 Debate Transcript</a></li>\n",
      "<li class=\"page_item page-item-142\"><a href=\"/voter-education/debate-transcripts/2000-debate-transcripts-translations/\">Debate Transcript Translations</a></li>\n",
      "</ul>\n",
      "</li>\n",
      "<li class=\"page_item page-item-46\"><a href=\"/voter-education/state-boards-of-election/\">State Boards of Election</a></li>\n",
      "<li class=\"page_item page-item-45\"><a href=\"/voter-education/tips-for-organizations-schools-or-students/\">Tips for Organizations, Schools, or Students</a></li>\n",
      "</ul>\n",
      "</div>\n",
      "<div id=\"content-sm\">\n",
      "<h1>Debate Transcripts</h1>\n",
      "<p><span class=\"graytext\"><span class=\"grayheading\">Unofficial transcripts of most presidential and vice presidential debates are available on this site.</span></span></p>\n",
      "<p> </p>\n",
      "<hr/>\n",
      "<p class=\"graytext\">2016 Transcripts</p>\n",
      "<blockquote><p><a href=\"/voter-education/debate-transcripts/september-26-2016-debate-transcript/\">September 26, 2016: The First Clinton-Trump Presidential Debate</a></p>\n",
      "<p><a href=\"/voter-education/debate-transcripts/october-4-2016-debate-transcript/\">October 4, 2016: The Kain-Pence Vice Presidential Debate</a></p>\n",
      "<p><a href=\"/voter-education/debate-transcripts/october-9-2016-debate-transcript/\">October 9, 2016: The Second Clinton-Trump Presidential Debate</a></p>\n",
      "<p><a href=\"/voter-education/debate-transcripts/october-19-2016-debate-transcript/\">October 19, 2016: The Third Clinton-Trump Presidential Debate</a></p></blockquote>\n",
      "<hr/>\n",
      "<p class=\"graytext\">2012 Transcripts</p>\n",
      "<blockquote><p><a href=\"/voter-education/debate-transcripts/october-3-2012-debate-transcript/\" title=\"October 3, 2012 Debate Transcript\">October 3, 2012: The First Obama-Romney Presidential Debate</a></p>\n",
      "<p><a href=\"/voter-education/debate-transcripts/october-11-2012-the-biden-romney-vice-presidential-debate/\">October 11, 2012: The Biden-Ryan Vice Presidential Debate</a></p>\n",
      "<p><a href=\"/voter-education/debate-transcripts/october-16-2012-the-second-obama-romney-presidential-debate/\">October 16, 2012: The Second Obama-Romney Presidential Debate</a></p>\n",
      "<p><a href=\"/voter-education/debate-transcripts/october-22-2012-the-third-obama-romney-presidential-debate/\">October 22, 2012: The Third Obama-Romney Presidential Debate</a></p></blockquote>\n",
      "<hr/>\n",
      "<p class=\"graytext\">2008 Transcripts</p>\n",
      "<blockquote><p><a href=\"/voter-education/debate-transcripts/2008-debate-transcript/\" title=\"September 26, 2008 Debate Transcript\">September 26, 2008: The First McCain-Obama Presidential Debate</a></p>\n",
      "<p><a href=\"/voter-education/debate-transcripts/2008-debate-transcript-2/\" title=\"October 2, 2008 Debate Transcript\">October 2, 2008: The Biden-Palin Vice Presidential Debate</a></p>\n",
      "<p><a href=\"/voter-education/debate-transcripts/october-7-2008-debate-transcrip/\" title=\"October 7, 2008 Debate Transcript\">October 7, 2008: The Second McCain-Obama Presidential Debate</a></p>\n",
      "<p><a href=\"/voter-education/debate-transcripts/october-15-2008-debate-transcript/\" title=\"October 15, 2008 Debate Transcript\">October 15, 2008: The Third McCain-Obama Presidential Debate</a></p></blockquote>\n",
      "<hr/>\n",
      "<p class=\"graytext\">2004 Transcripts</p>\n",
      "<blockquote><p><a href=\"/voter-education/debate-transcripts/october-13-2004-debate-transcript/\" title=\"October 13, 2004 Debate Transcript\">October 13, 2004: The Third Bush-Kerry Presidential Debate</a></p>\n",
      "<p><a href=\"/voter-education/debate-transcripts/october-8-2004-debate-transcript/\" title=\"October 8, 2004 Debate Transcript\">October 8, 2004: The Second Bush-Kerry Presidential Debate</a></p>\n",
      "<p><a href=\"/voter-education/debate-transcripts/october-5-2004-transcript/\" title=\"October 5, 2004 Transcript\">October 5, 2004: The Cheney-Edwards Vice Presidential Debate</a></p>\n",
      "<p><a href=\"/voter-education/debate-transcripts/september-30-2004-debate-transcript/\" title=\"September 30. 2004 Debate Transcript\">September 30, 2004: The First Bush-Kerry Presidential Debate</a></p></blockquote>\n",
      "<hr/>\n",
      "<p class=\"graytext\">2000 Transcripts</p>\n",
      "<blockquote><p><a href=\"/voter-education/debate-transcripts/october-3-2000-transcript/\" title=\"October 3, 2000 Transcript\">October 3, 2000: The First Gore-Bush Presidential Debate</a></p>\n",
      "<p><a href=\"/voter-education/debate-transcripts/october-5-2000-debate-transcript/\" title=\"October 5, 2000 Debate Transcript\">October 5, 2000: The Lieberman-Cheney Vice Presidential Debate</a></p>\n",
      "<p><a href=\"/voter-education/debate-transcripts/october-11-2000-debate-transcript/\" title=\"October 11, 2000 Debate Transcript\">October 11, 2000: The Second Gore-Bush Presidential Debate</a></p>\n",
      "<p><a href=\"/voter-education/debate-transcripts/october-17-2000-debate-transcript/\" title=\"October 17, 2000 Debate Transcript\">October 17, 2000: The Third Gore-Bush Presidential Debate</a></p>\n",
      "<p><a href=\"/voter-education/debate-transcripts/2000-debate-transcripts-translations/\" title=\"Debate Transcript Translations\">The 2000 Debate Transcripts: Transcripts of the debates translated into six languages</a></p></blockquote>\n",
      "<hr/>\n",
      "<p class=\"graytext\">1996 Transcripts</p>\n",
      "<blockquote><p><a href=\"/voter-education/debate-transcripts/october-6-1996-debate-transcript/\" title=\"October 6, 1996 Debate Transcript\">October 6, 1996: The First Clinton-Dole Presidential Debate</a></p>\n",
      "<p><a href=\"/voter-education/debate-transcripts/october-9-1996-debate-transcript/\" title=\"October 9, 1996 Debate Transcript\">October 9, 1996: The Gore-Kemp Vice Presidential Debate</a></p>\n",
      "<p><a href=\"/voter-education/debate-transcripts/october-16-1996-debate-transcript/\" title=\"October 16, 1996 Debate Transcript\">October 16, 1996: The Second Clinton-Dole Presidential Debate</a></p></blockquote>\n",
      "<hr/>\n",
      "<p class=\"graytext\">1992 Transcripts</p>\n",
      "<blockquote><p>October 11, 1992: The First Clinton-Bush-Perot Presidential Debate</p>\n",
      "<p><a href=\"/voter-education/debate-transcripts/october-11-1992-first-half-debate-transcript/\" title=\"October 11, 1992 First Half Debate Transcript\">First half of Debate</a><br/>\n",
      "<a href=\"/voter-education/debate-transcripts/october-11-1992-second-half-debate-transcript/\" title=\"October 11, 1992 Second Half Debate Transcript\">Second half of Debate</a></p>\n",
      "<p><a href=\"/voter-education/debate-transcripts/october-13-1992-debate-transcript/\" title=\"October 13, 1992 Debate Transcript\">October 13, 1992: The Gore-Quayle-Stockdale Vice Presidential Debate</a></p>\n",
      "<p>October 15, 1992: The Second Clinton-Bush-Perot Presidential Debate</p>\n",
      "<p><a href=\"/voter-education/debate-transcripts/october-15-1992-first-half-debate-transcript/\" title=\"October 15, 1992 First Half Debate Transcript\">First half of Debate</a><br/>\n",
      "<a href=\"/voter-education/debate-transcripts/october-15-1992-second-half-debate-transcript/\" title=\"October 15, 1992 Second Half Debate Transcript\">Second half of Debate</a></p>\n",
      "<p><a href=\"/voter-education/debate-transcripts/october-19-1992-debate-transcript/\" title=\"October 19, 1992 Debate Transcript\">October 19, 1992: The Third Clinton-Bush-Perot Presidential Debate</a></p></blockquote>\n",
      "<hr/>\n",
      "<p class=\"graytext\">1988 Transcripts</p>\n",
      "<blockquote><p><a href=\"/voter-education/debate-transcripts/september-25-1988-debate-transcript/\" title=\"September 25, 1988 Debate Transcript\">September 25, 1988: The First Bush-Dukakis Presidential Debate</a></p>\n",
      "<p><a href=\"/voter-education/debate-transcripts/october-5-1988-debate-transcripts/\" title=\"October 5, 1988 Debate Transcripts\">October 5, 1988: The Bentsen-Quayle Vice Presidential Debate</a></p>\n",
      "<p><a href=\"/voter-education/debate-transcripts/october-13-1988-debate-transcript/\" title=\"October 13, 1988 Debate Transcript\">October 13, 1988: The Second Bush-Dukakis Presidential Debate</a></p></blockquote>\n",
      "<hr/>\n",
      "<p class=\"graytext\">1984 Transcripts</p>\n",
      "<blockquote><p><a href=\"/voter-education/debate-transcripts/october-7-1984-debate-transcript/\" title=\"October 7, 1984 Debate Transcript\">October 7, 1984: The First Reagan-Mondale Presidential Debate</a></p>\n",
      "<p><a href=\"/voter-education/debate-transcripts/october-11-1984-debate-transcript/\" title=\"October 11, 1984 Debate Transcript\">October 11, 1984: The Bush-Ferraro Vice Presidential Debate</a></p>\n",
      "<p><a href=\"/voter-education/debate-transcripts/october-21-1984-debate-transcript/\" title=\"October 21, 1984 Debate Transcript\">October 21, 1984: The Second Reagan-Mondale Presidential Debate</a></p></blockquote>\n",
      "<hr/>\n",
      "<p class=\"graytext\">1980 Transcripts</p>\n",
      "<blockquote><p><a href=\"/voter-education/debate-transcripts/september-21-1980-debate-transcript/\" title=\"September 21, 1980 Debate Transcript\">September 21, 1980: The Anderson-Reagan Presidential Debate</a></p>\n",
      "<p><a href=\"/voter-education/debate-transcripts/october-28-1980-debate-transcript/\" title=\"October 28, 1980 Debate Transcript\">October 28, 1980: The Carter-Reagan Presidential Debate</a></p></blockquote>\n",
      "<hr/>\n",
      "<p class=\"graytext\">1976 Transcripts</p>\n",
      "<blockquote>\n",
      "<dl>\n",
      "<dt><a href=\"/voter-education/debate-transcripts/september-23-1976-debate-transcript/\" title=\"September 23, 1976 Debate Transcript\">September 23, 1976: The First Carter-Ford Presidential Debate</a></dt>\n",
      "<dt></dt>\n",
      "<dt><a href=\"/voter-education/debate-transcripts/october-6-1976-debate-transcript/\" title=\"October 6, 1976 Debate Transcript\">October 6, 1976: The Second Carter-Ford Presidential Debate</a></dt>\n",
      "<dt></dt>\n",
      "<dt><a href=\"/voter-education/debate-transcripts/october-22-1976-debate-transcript/\" title=\"October 22, 1976 Debate Transcript\">October 22, 1976: The Third Carter-Ford Presidential Debate</a></dt>\n",
      "</dl>\n",
      "</blockquote>\n",
      "<hr/>\n",
      "<p class=\"graytext\">1960 Transcripts</p>\n",
      "<blockquote><p><a href=\"/voter-education/debate-transcripts/september-26-1960-debate-transcript/\" title=\"September 26, 1960 Debate Transcript\">September 26, 1960: The First Kennedy-Nixon Presidential Debate</a></p>\n",
      "<p><a href=\"/voter-education/debate-transcripts/october-7-1960-debate-transcript/\" title=\"October 7, 1960 Debate Transcript\">October 7, 1960: The Second Kennedy-Nixon Presidential Debate</a></p>\n",
      "<p><a href=\"/voter-education/debate-transcripts/october-13-1960-debate-transcript/\" title=\"October 13, 1960 Debate Transcript\">October 13, 1960: The Third Kennedy-Nixon Presidential Debate</a></p>\n",
      "<p><a href=\"/voter-education/debate-transcripts/october-21-1960-debate-transcript/\" title=\"October 21, 1960 Debate Transcript\">October 21, 1960: The Fourth Kennedy-Nixon Presidential Debate</a></p></blockquote>\n",
      "<p> </p>\n",
      "</div>\n",
      "</div>\n",
      "<div style=\"clear: both\"></div>\n",
      "<div id=\"footer\">\n",
      "<p>© COPYRIGHT 2019 THE COMMISSION ON PRESIDENTIAL DEBATES. ALL RIGHTS RESERVED.</p>\n",
      "</div>\n",
      "<div id=\"bottommenu\" style=\"display:none;\">\n",
      "<a href=\"/\">Home</a>\n",
      "  |&amp;nbsp \n",
      "<a href=\"/about-cpd/\">About CPD</a>\n",
      "  |&amp;nbsp \n",
      "<a href=\"/debate-history/\">Debate History</a>\n",
      "  |&amp;nbsp \n",
      "<a href=\"/news/\">News</a>\n",
      "  |&amp;nbsp \n",
      "<a href=\"/voter-education/\">Voter Education</a>\n",
      "  |&amp;nbsp \n",
      "<a href=\"/international/\">International</a>\n",
      "  |&amp;nbsp \n",
      "<a href=\"/media/\">Media</a>\n",
      "</div>\n",
      "</div>\n",
      "</body>\n",
      "</html>\n",
      "\n"
     ]
    }
   ],
   "source": [
    "print(content)"
   ]
  },
  {
   "cell_type": "code",
   "execution_count": 204,
   "metadata": {},
   "outputs": [
    {
     "data": {
      "text/plain": [
       "[<a href=\"/voter-education/debate-transcripts/september-26-2016-debate-transcript/\">September 26, 2016: The First Clinton-Trump Presidential Debate</a>,\n",
       " <a href=\"/voter-education/debate-transcripts/october-3-2012-debate-transcript/\" title=\"October 3, 2012 Debate Transcript\">October 3, 2012: The First Obama-Romney Presidential Debate</a>,\n",
       " <a href=\"/voter-education/debate-transcripts/2008-debate-transcript/\" title=\"September 26, 2008 Debate Transcript\">September 26, 2008: The First McCain-Obama Presidential Debate</a>,\n",
       " <a href=\"/voter-education/debate-transcripts/september-30-2004-debate-transcript/\" title=\"September 30. 2004 Debate Transcript\">September 30, 2004: The First Bush-Kerry Presidential Debate</a>,\n",
       " <a href=\"/voter-education/debate-transcripts/october-3-2000-transcript/\" title=\"October 3, 2000 Transcript\">October 3, 2000: The First Gore-Bush Presidential Debate</a>,\n",
       " <a href=\"/voter-education/debate-transcripts/october-6-1996-debate-transcript/\" title=\"October 6, 1996 Debate Transcript\">October 6, 1996: The First Clinton-Dole Presidential Debate</a>,\n",
       " <a href=\"/voter-education/debate-transcripts/september-25-1988-debate-transcript/\" title=\"September 25, 1988 Debate Transcript\">September 25, 1988: The First Bush-Dukakis Presidential Debate</a>,\n",
       " <a href=\"/voter-education/debate-transcripts/october-7-1984-debate-transcript/\" title=\"October 7, 1984 Debate Transcript\">October 7, 1984: The First Reagan-Mondale Presidential Debate</a>,\n",
       " <a href=\"/voter-education/debate-transcripts/september-23-1976-debate-transcript/\" title=\"September 23, 1976 Debate Transcript\">September 23, 1976: The First Carter-Ford Presidential Debate</a>,\n",
       " <a href=\"/voter-education/debate-transcripts/september-26-1960-debate-transcript/\" title=\"September 26, 1960 Debate Transcript\">September 26, 1960: The First Kennedy-Nixon Presidential Debate</a>]"
      ]
     },
     "execution_count": 204,
     "metadata": {},
     "output_type": "execute_result"
    }
   ],
   "source": [
    "all_links = content.find_all('a')\n",
    "all_first_debate = []\n",
    "for i in all_links:\n",
    "    bodies = i.text\n",
    "    if 'First' in bodies and 'Presidential' in bodies and 'Debate' in bodies:\n",
    "        all_first_debate.append(i)\n",
    "all_first_debate"
   ]
  },
  {
   "cell_type": "code",
   "execution_count": 205,
   "metadata": {},
   "outputs": [
    {
     "data": {
      "text/plain": [
       "[<a href=\"/voter-education/debate-transcripts/september-25-1988-debate-transcript/\" title=\"September 25, 1988 Debate Transcript\">September 25, 1988: The First Bush-Dukakis Presidential Debate</a>,\n",
       " <a href=\"/voter-education/debate-transcripts/october-7-1984-debate-transcript/\" title=\"October 7, 1984 Debate Transcript\">October 7, 1984: The First Reagan-Mondale Presidential Debate</a>,\n",
       " <a href=\"/voter-education/debate-transcripts/september-23-1976-debate-transcript/\" title=\"September 23, 1976 Debate Transcript\">September 23, 1976: The First Carter-Ford Presidential Debate</a>,\n",
       " <a href=\"/voter-education/debate-transcripts/september-26-1960-debate-transcript/\" title=\"September 26, 1960 Debate Transcript\">September 26, 1960: The First Kennedy-Nixon Presidential Debate</a>]"
      ]
     },
     "execution_count": 205,
     "metadata": {},
     "output_type": "execute_result"
    }
   ],
   "source": [
    "final_links = []\n",
    "for i in all_first_debate:\n",
    "    bodies = i.text \n",
    "    if '1988' in bodies or '1984' in bodies or  '1976' in bodies or  '1960' in bodies:\n",
    "        final_links.append(i)\n",
    "final_links"
   ]
  },
  {
   "cell_type": "code",
   "execution_count": 206,
   "metadata": {},
   "outputs": [
    {
     "data": {
      "text/plain": [
       "['https://www.debates.org/voter-education/debate-transcripts/september-25-1988-debate-transcript/',\n",
       " 'https://www.debates.org/voter-education/debate-transcripts/october-7-1984-debate-transcript/',\n",
       " 'https://www.debates.org/voter-education/debate-transcripts/september-23-1976-debate-transcript/',\n",
       " 'https://www.debates.org/voter-education/debate-transcripts/september-26-1960-debate-transcript/']"
      ]
     },
     "execution_count": 206,
     "metadata": {},
     "output_type": "execute_result"
    }
   ],
   "source": [
    "for i in  range(0,len(final_links)):\n",
    "    final_links[i] = \"https://www.debates.org\" + final_links[i].get('href')\n",
    "final_links"
   ]
  },
  {
   "cell_type": "code",
   "execution_count": 207,
   "metadata": {},
   "outputs": [
    {
     "data": {
      "text/plain": [
       "['CPD: September 25, 1988 Debate Transcript',\n",
       " 'CPD: October 7, 1984 Debate Transcript',\n",
       " 'CPD: September 23, 1976 Debate Transcript',\n",
       " 'CPD: September 26, 1960 Debate Transcript']"
      ]
     },
     "execution_count": 207,
     "metadata": {},
     "output_type": "execute_result"
    }
   ],
   "source": [
    "titles = []\n",
    "debate_content = []\n",
    "for i in final_links:\n",
    "    debate_source = requests.get(i)\n",
    "    debate_content.append(bs.BeautifulSoup(debate_source.content,features='html.parser' ))\n",
    "for i in debate_content:\n",
    "    titles.append(i.title.text)\n",
    "titles"
   ]
  },
  {
   "cell_type": "code",
   "execution_count": 208,
   "metadata": {},
   "outputs": [
    {
     "data": {
      "text/html": [
       "<div>\n",
       "<style scoped>\n",
       "    .dataframe tbody tr th:only-of-type {\n",
       "        vertical-align: middle;\n",
       "    }\n",
       "\n",
       "    .dataframe tbody tr th {\n",
       "        vertical-align: top;\n",
       "    }\n",
       "\n",
       "    .dataframe thead th {\n",
       "        text-align: right;\n",
       "    }\n",
       "</style>\n",
       "<table border=\"1\" class=\"dataframe\">\n",
       "  <thead>\n",
       "    <tr style=\"text-align: right;\">\n",
       "      <th></th>\n",
       "      <th>CPD: September 25, 1988 Debate Transcript</th>\n",
       "      <th>CPD: October 7, 1984 Debate Transcript</th>\n",
       "      <th>CPD: September 23, 1976 Debate Transcript</th>\n",
       "      <th>CPD: September 26, 1960 Debate Transcript</th>\n",
       "    </tr>\n",
       "  </thead>\n",
       "  <tbody>\n",
       "  </tbody>\n",
       "</table>\n",
       "</div>"
      ],
      "text/plain": [
       "Empty DataFrame\n",
       "Columns: [CPD: September 25, 1988 Debate Transcript, CPD: October 7, 1984 Debate Transcript, CPD: September 23, 1976 Debate Transcript, CPD: September 26, 1960 Debate Transcript]\n",
       "Index: []"
      ]
     },
     "execution_count": 208,
     "metadata": {},
     "output_type": "execute_result"
    }
   ],
   "source": [
    "dataframe = pd.DataFrame(columns = titles)\n",
    "dataframe"
   ]
  },
  {
   "cell_type": "code",
   "execution_count": 219,
   "metadata": {},
   "outputs": [
    {
     "data": {
      "text/plain": [
       "[87529, 86549, 80776, 60978]"
      ]
     },
     "execution_count": 219,
     "metadata": {},
     "output_type": "execute_result"
    }
   ],
   "source": [
    "letter_count = []\n",
    "index = 0\n",
    "count = 0\n",
    "for i in debate_content:\n",
    "    for j in i.find_all('p'):\n",
    "        count = count + len(j.text) -  j.text.count('\\n')\n",
    "    letter_count.append(count)\n",
    "    count = 0\n",
    "letter_count"
   ]
  },
  {
   "cell_type": "code",
   "execution_count": 220,
   "metadata": {},
   "outputs": [],
   "source": [
    "words = []\n",
    "war_count = []\n",
    "most_occuring_word = []\n",
    "count_of_most_occuring_word = []\n",
    "for i in debate_content:\n",
    "    word = []\n",
    "    for j in i.find_all('p'):\n",
    "        word = word + (re.sub('\\n','',re.sub(r'[^\\w\\s]','',j.text.lower()))).split(' ')\n",
    "    war_count.append(word.count('war'))\n",
    "    words.append(word)\n",
    "    \n",
    "        #most_occuring_word.append([word for word, word_count in Counter(words).most_common(1)])"
   ]
  },
  {
   "cell_type": "code",
   "execution_count": 221,
   "metadata": {},
   "outputs": [],
   "source": [
    "for i in words:\n",
    "    most_occuring_word.append([item for item in Counter(i).most_common(1)][0][0])"
   ]
  },
  {
   "cell_type": "code",
   "execution_count": 222,
   "metadata": {},
   "outputs": [
    {
     "data": {
      "text/plain": [
       "['the', 'the', 'the', 'the']"
      ]
     },
     "execution_count": 222,
     "metadata": {},
     "output_type": "execute_result"
    }
   ],
   "source": [
    "most_occuring_word"
   ]
  },
  {
   "cell_type": "code",
   "execution_count": 223,
   "metadata": {},
   "outputs": [],
   "source": [
    "for i in words:\n",
    "    count_of_most_occuring_word.append([item for item in Counter(i).most_common(1)][0][1])"
   ]
  },
  {
   "cell_type": "code",
   "execution_count": 224,
   "metadata": {},
   "outputs": [
    {
     "data": {
      "text/plain": [
       "[800, 868, 857, 780]"
      ]
     },
     "execution_count": 224,
     "metadata": {},
     "output_type": "execute_result"
    }
   ],
   "source": [
    "count_of_most_occuring_word"
   ]
  },
  {
   "cell_type": "code",
   "execution_count": 225,
   "metadata": {},
   "outputs": [],
   "source": [
    "dataframe.loc[\"Number of characters\"] = letter_count\n",
    "dataframe.loc['Count of Word War'] = war_count\n",
    "dataframe.loc[\"Most occuring Woard\"] = most_occuring_word\n",
    "dataframe.loc[\"Count of most occuring words\"] = count_of_most_occuring_word"
   ]
  },
  {
   "cell_type": "code",
   "execution_count": 226,
   "metadata": {},
   "outputs": [
    {
     "data": {
      "text/html": [
       "<div>\n",
       "<style scoped>\n",
       "    .dataframe tbody tr th:only-of-type {\n",
       "        vertical-align: middle;\n",
       "    }\n",
       "\n",
       "    .dataframe tbody tr th {\n",
       "        vertical-align: top;\n",
       "    }\n",
       "\n",
       "    .dataframe thead th {\n",
       "        text-align: right;\n",
       "    }\n",
       "</style>\n",
       "<table border=\"1\" class=\"dataframe\">\n",
       "  <thead>\n",
       "    <tr style=\"text-align: right;\">\n",
       "      <th></th>\n",
       "      <th>CPD: September 25, 1988 Debate Transcript</th>\n",
       "      <th>CPD: October 7, 1984 Debate Transcript</th>\n",
       "      <th>CPD: September 23, 1976 Debate Transcript</th>\n",
       "      <th>CPD: September 26, 1960 Debate Transcript</th>\n",
       "    </tr>\n",
       "  </thead>\n",
       "  <tbody>\n",
       "    <tr>\n",
       "      <th>Number of characters</th>\n",
       "      <td>87529</td>\n",
       "      <td>86549</td>\n",
       "      <td>80776</td>\n",
       "      <td>60978</td>\n",
       "    </tr>\n",
       "    <tr>\n",
       "      <th>Count of Word War</th>\n",
       "      <td>7</td>\n",
       "      <td>2</td>\n",
       "      <td>7</td>\n",
       "      <td>3</td>\n",
       "    </tr>\n",
       "    <tr>\n",
       "      <th>Most occuring Woard</th>\n",
       "      <td>the</td>\n",
       "      <td>the</td>\n",
       "      <td>the</td>\n",
       "      <td>the</td>\n",
       "    </tr>\n",
       "    <tr>\n",
       "      <th>Count of most occuring words</th>\n",
       "      <td>800</td>\n",
       "      <td>868</td>\n",
       "      <td>857</td>\n",
       "      <td>780</td>\n",
       "    </tr>\n",
       "  </tbody>\n",
       "</table>\n",
       "</div>"
      ],
      "text/plain": [
       "                             CPD: September 25, 1988 Debate Transcript  \\\n",
       "Number of characters                                             87529   \n",
       "Count of Word War                                                    7   \n",
       "Most occuring Woard                                                the   \n",
       "Count of most occuring words                                       800   \n",
       "\n",
       "                             CPD: October 7, 1984 Debate Transcript  \\\n",
       "Number of characters                                          86549   \n",
       "Count of Word War                                                 2   \n",
       "Most occuring Woard                                             the   \n",
       "Count of most occuring words                                    868   \n",
       "\n",
       "                             CPD: September 23, 1976 Debate Transcript  \\\n",
       "Number of characters                                             80776   \n",
       "Count of Word War                                                    7   \n",
       "Most occuring Woard                                                the   \n",
       "Count of most occuring words                                       857   \n",
       "\n",
       "                             CPD: September 26, 1960 Debate Transcript  \n",
       "Number of characters                                             60978  \n",
       "Count of Word War                                                    3  \n",
       "Most occuring Woard                                                the  \n",
       "Count of most occuring words                                       780  "
      ]
     },
     "execution_count": 226,
     "metadata": {},
     "output_type": "execute_result"
    }
   ],
   "source": [
    "dataframe"
   ]
  },
  {
   "cell_type": "markdown",
   "metadata": {},
   "source": [
    "    \n",
    "## 2. Download and read in specific line from many data sets\n",
    "\n",
    "Scrape the first 27 data sets from this URL http://people.sc.fsu.edu/~jburkardt/datasets/regression/ (i.e.`x01.txt` - `x27.txt`). Then, save the 5th line in each data set, this should be the name of the data set author (get rid of the `#` symbol, the white spaces and the comma at the end). \n",
    "\n",
    "Count how many times (with a Python function) each author is the reference for one of the 27 data sets. Showcase your results, sorted, with the most common author name first and how many times he appeared in data sets. Use a Pandas DataFrame to show your results, see example. **Print your final output result.**\n",
    "\n",
    "**Example output of the answer for Question 2:**\n",
    "\n",
    "![author_stats](https://github.com/ikhlaqsidhu/data-x/raw/master/x-archive/misc/hw2_imgs_spring2018/data_authors.png)\n"
   ]
  },
  {
   "cell_type": "code",
   "execution_count": 287,
   "metadata": {
    "collapsed": true
   },
   "outputs": [],
   "source": [
    "# your code here\n",
    "list_of_authors = []\n",
    "list_insivisual = []\n",
    "final_names = []\n",
    "for i in range(1,28):\n",
    "    text_file = requests.get(\"http://people.sc.fsu.edu/~jburkardt/datasets/regression/x\" + str(i).zfill(2) + '.txt')\n",
    "    soup = bs.BeautifulSoup(text_file.content , features='html.parser')\n",
    "    count = 0\n",
    "    for word in str(soup).split('#  '):\n",
    "        count+=1\n",
    "        if count == 4:\n",
    "            list_of_authors.append(word)\n",
    "list_of_authors\n",
    "for i in list_of_authors:\n",
    "    temp = i.split('\\n')\n",
    "    for j in temp:\n",
    "        final_names.append(j)\n",
    "    \n",
    "        "
   ]
  },
  {
   "cell_type": "code",
   "execution_count": 288,
   "metadata": {},
   "outputs": [
    {
     "data": {
      "text/plain": [
       "['  Helmut Spaeth,',\n",
       " '',\n",
       " '  Helmut Spaeth,',\n",
       " '',\n",
       " '  Helmut Spaeth,',\n",
       " '',\n",
       " '  Helmut Spaeth,',\n",
       " '',\n",
       " '  Helmut Spaeth,',\n",
       " '',\n",
       " '  R J Freund and P D Minton,',\n",
       " '',\n",
       " '  D G Kleinbaum and L L Kupper,',\n",
       " '',\n",
       " '  Helmut Spaeth,',\n",
       " '',\n",
       " '  D G Kleinbaum and L L Kupper,',\n",
       " '',\n",
       " '  K A Brownlee,',\n",
       " '',\n",
       " '  Helmut Spaeth,',\n",
       " '',\n",
       " '  Helmut Spaeth,',\n",
       " '',\n",
       " '  S Chatterjee and B Price,',\n",
       " '',\n",
       " '  Helmut Spaeth,',\n",
       " '',\n",
       " '  Helmut Spaeth,',\n",
       " '',\n",
       " '  Helmut Spaeth,',\n",
       " '',\n",
       " '  Helmut Spaeth,',\n",
       " '',\n",
       " '  Helmut Spaeth,',\n",
       " '',\n",
       " '  R J Freund and P D Minton,',\n",
       " '',\n",
       " '  Helmut Spaeth,',\n",
       " '',\n",
       " '  Helmut Spaeth,',\n",
       " '',\n",
       " '  Helmut Spaeth,',\n",
       " '',\n",
       " '  S Chatterjee, B Price,',\n",
       " '',\n",
       " '  S Chatterjee, B Price,',\n",
       " '',\n",
       " '  S Chatterjee, B Price,',\n",
       " '',\n",
       " '  S C Narula, J F Wellington,',\n",
       " '',\n",
       " '  S C Narula, J F Wellington,',\n",
       " '']"
      ]
     },
     "execution_count": 288,
     "metadata": {},
     "output_type": "execute_result"
    }
   ],
   "source": [
    "final_names"
   ]
  },
  {
   "cell_type": "code",
   "execution_count": 290,
   "metadata": {},
   "outputs": [
    {
     "data": {
      "text/plain": [
       "{'  Helmut Spaeth,': 16,\n",
       " '  R J Freund and P D Minton,': 2,\n",
       " '  D G Kleinbaum and L L Kupper,': 2,\n",
       " '  K A Brownlee,': 1,\n",
       " '  S Chatterjee and B Price,': 1,\n",
       " '  S Chatterjee, B Price,': 3,\n",
       " '  S C Narula, J F Wellington,': 2}"
      ]
     },
     "execution_count": 290,
     "metadata": {},
     "output_type": "execute_result"
    }
   ],
   "source": [
    "dictio = {}\n",
    "for i in final_names:\n",
    "    if i in dictio:\n",
    "        pass\n",
    "    else:\n",
    "        dictio[i] = final_names.count(i)\n",
    "del dictio['']\n",
    "dictio"
   ]
  },
  {
   "cell_type": "code",
   "execution_count": 293,
   "metadata": {},
   "outputs": [],
   "source": [
    "data_writers = pd.DataFrame.from_dict(dictio,orient='index',columns=['Count'])\n",
    "data_writers.index.names = ['Authors']\n",
    "data_writers=data_writers.sort_values(by=['Count'],ascending=False)"
   ]
  },
  {
   "cell_type": "code",
   "execution_count": 294,
   "metadata": {},
   "outputs": [
    {
     "data": {
      "text/html": [
       "<div>\n",
       "<style scoped>\n",
       "    .dataframe tbody tr th:only-of-type {\n",
       "        vertical-align: middle;\n",
       "    }\n",
       "\n",
       "    .dataframe tbody tr th {\n",
       "        vertical-align: top;\n",
       "    }\n",
       "\n",
       "    .dataframe thead th {\n",
       "        text-align: right;\n",
       "    }\n",
       "</style>\n",
       "<table border=\"1\" class=\"dataframe\">\n",
       "  <thead>\n",
       "    <tr style=\"text-align: right;\">\n",
       "      <th></th>\n",
       "      <th>Count</th>\n",
       "    </tr>\n",
       "    <tr>\n",
       "      <th>Authors</th>\n",
       "      <th></th>\n",
       "    </tr>\n",
       "  </thead>\n",
       "  <tbody>\n",
       "    <tr>\n",
       "      <th>Helmut Spaeth,</th>\n",
       "      <td>16</td>\n",
       "    </tr>\n",
       "    <tr>\n",
       "      <th>S Chatterjee, B Price,</th>\n",
       "      <td>3</td>\n",
       "    </tr>\n",
       "    <tr>\n",
       "      <th>R J Freund and P D Minton,</th>\n",
       "      <td>2</td>\n",
       "    </tr>\n",
       "    <tr>\n",
       "      <th>D G Kleinbaum and L L Kupper,</th>\n",
       "      <td>2</td>\n",
       "    </tr>\n",
       "    <tr>\n",
       "      <th>S C Narula, J F Wellington,</th>\n",
       "      <td>2</td>\n",
       "    </tr>\n",
       "    <tr>\n",
       "      <th>K A Brownlee,</th>\n",
       "      <td>1</td>\n",
       "    </tr>\n",
       "    <tr>\n",
       "      <th>S Chatterjee and B Price,</th>\n",
       "      <td>1</td>\n",
       "    </tr>\n",
       "  </tbody>\n",
       "</table>\n",
       "</div>"
      ],
      "text/plain": [
       "                                 Count\n",
       "Authors                               \n",
       "  Helmut Spaeth,                    16\n",
       "  S Chatterjee, B Price,             3\n",
       "  R J Freund and P D Minton,         2\n",
       "  D G Kleinbaum and L L Kupper,      2\n",
       "  S C Narula, J F Wellington,        2\n",
       "  K A Brownlee,                      1\n",
       "  S Chatterjee and B Price,          1"
      ]
     },
     "execution_count": 294,
     "metadata": {},
     "output_type": "execute_result"
    }
   ],
   "source": [
    "data_writers"
   ]
  }
 ],
 "metadata": {
  "kernel_info": {
   "name": "data-x"
  },
  "kernelspec": {
   "display_name": "Python 3",
   "language": "python",
   "name": "python3"
  },
  "language_info": {
   "codemirror_mode": {
    "name": "ipython",
    "version": 3
   },
   "file_extension": ".py",
   "mimetype": "text/x-python",
   "name": "python",
   "nbconvert_exporter": "python",
   "pygments_lexer": "ipython3",
   "version": "3.7.1"
  },
  "nteract": {
   "version": "0.7.1"
  }
 },
 "nbformat": 4,
 "nbformat_minor": 2
}
